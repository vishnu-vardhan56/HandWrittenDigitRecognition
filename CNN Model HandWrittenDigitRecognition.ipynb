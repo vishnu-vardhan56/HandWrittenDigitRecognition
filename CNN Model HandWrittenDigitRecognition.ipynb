{
 "cells": [
  {
   "cell_type": "code",
   "execution_count": 1,
   "id": "a455fa3e",
   "metadata": {},
   "outputs": [],
   "source": [
    "from tensorflow.keras import layers\n",
    "from tensorflow.keras import models\n",
    "from keras.datasets import mnist\n",
    "from keras.utils import to_categorical"
   ]
  },
  {
   "cell_type": "code",
   "execution_count": 2,
   "id": "80a37190",
   "metadata": {},
   "outputs": [],
   "source": [
    "(train_images, train_labels), (test_images, test_labels) = mnist.load_data()"
   ]
  },
  {
   "cell_type": "code",
   "execution_count": 9,
   "id": "16d0ed36",
   "metadata": {},
   "outputs": [
    {
     "name": "stdout",
     "output_type": "stream",
     "text": [
      "Model: \"sequential_4\"\n",
      "_________________________________________________________________\n",
      " Layer (type)                Output Shape              Param #   \n",
      "=================================================================\n",
      " conv2d_12 (Conv2D)          (None, 26, 26, 32)        320       \n",
      "                                                                 \n",
      " max_pooling2d_8 (MaxPooling  (None, 13, 13, 32)       0         \n",
      " 2D)                                                             \n",
      "                                                                 \n",
      " conv2d_13 (Conv2D)          (None, 11, 11, 64)        18496     \n",
      "                                                                 \n",
      " max_pooling2d_9 (MaxPooling  (None, 5, 5, 64)         0         \n",
      " 2D)                                                             \n",
      "                                                                 \n",
      " conv2d_14 (Conv2D)          (None, 3, 3, 64)          36928     \n",
      "                                                                 \n",
      " flatten_4 (Flatten)         (None, 576)               0         \n",
      "                                                                 \n",
      " dense_8 (Dense)             (None, 64)                36928     \n",
      "                                                                 \n",
      " dense_9 (Dense)             (None, 10)                650       \n",
      "                                                                 \n",
      "=================================================================\n",
      "Total params: 93,322\n",
      "Trainable params: 93,322\n",
      "Non-trainable params: 0\n",
      "_________________________________________________________________\n",
      "Epoch 1/10\n",
      "938/938 [==============================] - 33s 34ms/step - loss: 0.1804 - accuracy: 0.9445\n",
      "Epoch 2/10\n",
      "938/938 [==============================] - 32s 34ms/step - loss: 0.0517 - accuracy: 0.9836\n",
      "Epoch 3/10\n",
      "938/938 [==============================] - 33s 35ms/step - loss: 0.0380 - accuracy: 0.9885\n",
      "Epoch 4/10\n",
      "938/938 [==============================] - 35s 37ms/step - loss: 0.0290 - accuracy: 0.9908\n",
      "Epoch 5/10\n",
      "938/938 [==============================] - 34s 36ms/step - loss: 0.0235 - accuracy: 0.9925\n",
      "Epoch 6/10\n",
      "938/938 [==============================] - 34s 36ms/step - loss: 0.0195 - accuracy: 0.9935\n",
      "Epoch 7/10\n",
      "938/938 [==============================] - 36s 38ms/step - loss: 0.0157 - accuracy: 0.9948\n",
      "Epoch 8/10\n",
      "938/938 [==============================] - 36s 38ms/step - loss: 0.0138 - accuracy: 0.9953\n",
      "Epoch 9/10\n",
      "938/938 [==============================] - 35s 38ms/step - loss: 0.0120 - accuracy: 0.9959\n",
      "Epoch 10/10\n",
      "938/938 [==============================] - 36s 38ms/step - loss: 0.0103 - accuracy: 0.9966\n",
      "313/313 [==============================] - 2s 7ms/step - loss: 0.0305 - accuracy: 0.9926\n",
      "0.9926000237464905\n"
     ]
    }
   ],
   "source": [
    "model = models.Sequential()\n",
    "model.add(layers.Conv2D(32, (3, 3), activation='relu', input_shape=(28, 28, 1)))\n",
    "model.add(layers.MaxPooling2D((2, 2)))\n",
    "model.add(layers.Conv2D(64, (3, 3), activation='relu'))\n",
    "model.add(layers.MaxPooling2D((2, 2)))\n",
    "model.add(layers.Conv2D(64, (3, 3), activation='relu'))\n",
    "\n",
    "model.add(layers.Flatten())\n",
    "model.add(layers.Dense(64, activation='relu'))\n",
    "model.add(layers.Dense(10, activation='softmax'))\n",
    "model.summary()\n",
    "\n",
    "train_images = train_images.reshape((60000, 28, 28, 1))\n",
    "train_images = train_images.astype('float32') / 255\n",
    "test_images = test_images.reshape((10000, 28, 28, 1))\n",
    "test_images = test_images.astype('float32') / 255\n",
    "train_labels = to_categorical(train_labels)\n",
    "test_labels = to_categorical(test_labels)\n",
    "\n",
    "model.compile(optimizer='adam', loss='categorical_crossentropy', metrics=['accuracy'])\n",
    "model.fit(train_images, train_labels, epochs=10, batch_size=64)\n",
    "\n",
    "test_loss, test_acc = model.evaluate(test_images, test_labels)\n",
    "\n",
    "print(test_acc)\n",
    "\n",
    "model.save('mnist1.h5')"
   ]
  },
  {
   "cell_type": "code",
   "execution_count": null,
   "id": "ee3a2f1d",
   "metadata": {},
   "outputs": [],
   "source": []
  }
 ],
 "metadata": {
  "kernelspec": {
   "display_name": "Python 3 (ipykernel)",
   "language": "python",
   "name": "python3"
  },
  "language_info": {
   "codemirror_mode": {
    "name": "ipython",
    "version": 3
   },
   "file_extension": ".py",
   "mimetype": "text/x-python",
   "name": "python",
   "nbconvert_exporter": "python",
   "pygments_lexer": "ipython3",
   "version": "3.9.13"
  }
 },
 "nbformat": 4,
 "nbformat_minor": 5
}
